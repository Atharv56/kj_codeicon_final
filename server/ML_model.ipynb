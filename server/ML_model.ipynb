{
  "cells": [
    {
      "cell_type": "code",
      "execution_count": null,
      "metadata": {
        "id": "3VygtyOohsAR"
      },
      "outputs": [],
      "source": [
        "import pandas as pd\n",
        "import numpy as np"
      ]
    },
    {
      "cell_type": "markdown",
      "metadata": {
        "id": "C0Tgpv9WRQK_"
      },
      "source": [
        "importing master data"
      ]
    },
    {
      "cell_type": "code",
      "execution_count": null,
      "metadata": {
        "colab": {
          "base_uri": "https://localhost:8080/",
          "height": 1000
        },
        "id": "H4N7g5b9kSae",
        "outputId": "9060fd49-e184-47f3-eb01-51a29300c6cb"
      },
      "outputs": [],
      "source": [
        "dataset=pd.read_csv('/content/master recipe data.csv')\n",
        "dataset"
      ]
    },
    {
      "cell_type": "code",
      "execution_count": null,
      "metadata": {
        "colab": {
          "base_uri": "https://localhost:8080/"
        },
        "id": "g_SWQNaXkoz8",
        "outputId": "58ee4af3-682f-45d4-e697-af13bf91ad27"
      },
      "outputs": [],
      "source": [
        "dataset.isnull().sum()/len(dataset)*100"
      ]
    },
    {
      "cell_type": "markdown",
      "metadata": {
        "id": "7nHHrc9qRT7g"
      },
      "source": [
        "importing review data"
      ]
    },
    {
      "cell_type": "code",
      "execution_count": null,
      "metadata": {
        "colab": {
          "base_uri": "https://localhost:8080/",
          "height": 424
        },
        "id": "HqvLBmtrk_vo",
        "outputId": "bfac41e9-992b-42ea-fb84-5cd76f2793be"
      },
      "outputs": [],
      "source": [
        "df_review=pd.read_csv('/content/master review data.csv')\n",
        "df_review"
      ]
    },
    {
      "cell_type": "markdown",
      "metadata": {
        "id": "rfnOZNZ9RY79"
      },
      "source": [
        "merging"
      ]
    },
    {
      "cell_type": "code",
      "execution_count": null,
      "metadata": {
        "colab": {
          "base_uri": "https://localhost:8080/",
          "height": 1000
        },
        "id": "0Px7kahRmswy",
        "outputId": "df7a1ede-756d-494a-bd90-45eca891d490"
      },
      "outputs": [],
      "source": [
        "df=pd.merge(dataset,df_review,on='RecipeId',how='inner')\n",
        "df"
      ]
    },
    {
      "cell_type": "code",
      "execution_count": null,
      "metadata": {
        "colab": {
          "base_uri": "https://localhost:8080/"
        },
        "id": "sA5km0xvr2vO",
        "outputId": "433dd30a-2de7-4a76-dd09-2dc6243475a2"
      },
      "outputs": [],
      "source": [
        "df.isnull().sum()"
      ]
    },
    {
      "cell_type": "markdown",
      "metadata": {
        "id": "9jLf7wQbRbjg"
      },
      "source": [
        "Sentiment Analysis"
      ]
    },
    {
      "cell_type": "code",
      "execution_count": null,
      "metadata": {
        "colab": {
          "base_uri": "https://localhost:8080/"
        },
        "id": "TMA5WHZ8tKFV",
        "outputId": "4be7dd78-ddb0-49d6-a74a-879391a3e49b"
      },
      "outputs": [],
      "source": [
        "!pip install transformers"
      ]
    },
    {
      "cell_type": "code",
      "execution_count": null,
      "metadata": {
        "id": "tJLZiTMhsN9X"
      },
      "outputs": [],
      "source": [
        "from transformers import AutoModelForSequenceClassification\n",
        "from transformers import TFAutoModelForSequenceClassification\n",
        "from transformers import AutoTokenizer\n",
        "import numpy as np\n",
        "from scipy.special import softmax\n"
      ]
    },
    {
      "cell_type": "code",
      "execution_count": null,
      "metadata": {
        "colab": {
          "base_uri": "https://localhost:8080/",
          "height": 145,
          "referenced_widgets": [
            "b6602e64539c4e20a95ea670dd5c5844",
            "1756bba530034b1e8353f294c12bb6fc",
            "e6ab6ce515344676a8d1b7846f16cc0e",
            "5e24b254ae1e40bd87b84faa647dbcb9",
            "551160da1b2d41298fb5abc518f92fe1",
            "058cfab332b94b46b31bdb263738b02b",
            "90a3d2f963c049db83c5e47e014a88d1",
            "c58dd9433e5a405581d38f446c32686e",
            "3ac65320d8944f078ad84684bcab746e",
            "fe1dc973a44e4b138e64dbe0c47a57b5",
            "4ecf26f2d535480c9cd2c78049361506",
            "8e40787d44bb49c19dd94c904a6a1bd6",
            "ef9a3b0038cf493e93a87144450bd02d",
            "76cf8738e2144c6c8a54c75dab9dd83e",
            "e7e96c0205b44733a071ffb878d939a1",
            "9c38a9291b074405a2139183be3d0bbb",
            "49d0baac1774429a855f9d5da3e76ed1",
            "124849dccddf48a5b9cf26e6892282ec",
            "af33c5ffe5054d448985ed13652a60bb",
            "f8ee835074e54384b1a17d3c23a6e056",
            "ddaef10342ba4cdca230d77a831d442e",
            "e955f9065f6a4e2fafe7cb1f78a427f4",
            "16c465410e5c4de68b1be877c31bf736",
            "08f8eacc13454b3dbe29a88b74b9e925",
            "1e7c85fba11b4cb3aecc1385f426f6a4",
            "2d03d6a40055461cbdc47d32b7844171",
            "1b456f71423545a2a8d4b6458c7393c9",
            "bb11f5eeab0949f2bd34809ab4e14ff3",
            "687d3a86e7644f808bc039ffbe173a90",
            "42e9bbfb7ab44a66b623e964daeb4885",
            "ed507db44d6245dba8aa83d93b7569bf",
            "d2731e41e2994e4e90b631394912db74",
            "bbc9b645742d483399b78f97f39fba64",
            "7674620c5e414bd59d3d9f0a77219fc9",
            "1f41298f18e54aa78f85f30760644a18",
            "347e72c2948d4a478abff29fd5b678b3",
            "8d8df70abe3240abb56eb10721fe8cbc",
            "5bb640d427f14072a42d856f0368683b",
            "5ac22af5118b4320a45cbc1cedb8e7e5",
            "827c80b5caf54f69821de1e413bd9a55",
            "0075971185d2485eb28dad25cccdcb0a",
            "e97227ce527a4953999d335ef412bc36",
            "99e4458d2a5141218121c7eb95d27189",
            "7b496ac8d44a494a826bd4bb356a57c1"
          ]
        },
        "id": "UIh_DiXKtli9",
        "outputId": "ebd19ec8-5e08-4587-d938-dff4979da570"
      },
      "outputs": [],
      "source": [
        "task='sentiment'\n",
        "MODEL = f\"cardiffnlp/twitter-roberta-base-{task}\"\n",
        "\n",
        "tokenizer = AutoTokenizer.from_pretrained(MODEL)\n"
      ]
    },
    {
      "cell_type": "markdown",
      "metadata": {
        "id": "9wRk7zVYRmLV"
      },
      "source": [
        "sample"
      ]
    },
    {
      "cell_type": "code",
      "execution_count": null,
      "metadata": {
        "id": "9T4erbx1uKK8"
      },
      "outputs": [],
      "source": [
        "model = AutoModelForSequenceClassification.from_pretrained(MODEL)\n",
        "model.save_pretrained(MODEL)\n",
        "text = \"Hello\"\n",
        "encoded_input = tokenizer(text, return_tensors='pt')\n",
        "output = model(**encoded_input)\n",
        "scores = output[0][0].detach().numpy()\n",
        "scores = softmax(scores)"
      ]
    },
    {
      "cell_type": "code",
      "execution_count": null,
      "metadata": {
        "colab": {
          "base_uri": "https://localhost:8080/"
        },
        "id": "uHWgw4zKuzz0",
        "outputId": "764da321-70ea-4430-fd90-9c0ebbfa9569"
      },
      "outputs": [],
      "source": [
        "print('positive',scores[0])\n",
        "print('neutral',scores[1])\n",
        "print('negative',scores[2])"
      ]
    },
    {
      "cell_type": "code",
      "execution_count": null,
      "metadata": {
        "id": "ZERiqXULwBjX"
      },
      "outputs": [],
      "source": [
        "scores_dict={'positive':[],'neutral':[],'negative':[]}"
      ]
    },
    {
      "cell_type": "markdown",
      "metadata": {
        "id": "9BxPu1H7Rpjw"
      },
      "source": [
        "Looping through the data and finding sentiment scores for all"
      ]
    },
    {
      "cell_type": "code",
      "execution_count": null,
      "metadata": {
        "colab": {
          "base_uri": "https://localhost:8080/"
        },
        "id": "Qk-I9RyivZNE",
        "outputId": "9d8579d2-01e2-4777-d592-76ddeadb8fa1"
      },
      "outputs": [],
      "source": [
        "for i in range(len(df['ReviewText'])):\n",
        "  try:\n",
        "    text=df['ReviewText'][i]\n",
        "    encoded_input = tokenizer(text, return_tensors='pt')\n",
        "    output = model(**encoded_input)\n",
        "    scores = output[0][0].detach().numpy()\n",
        "    scores = softmax(scores)\n",
        "    scores_dict['positive'].append(scores[0])\n",
        "    scores_dict['neutral'].append(scores[1])\n",
        "    scores_dict['negative'].append(scores[2])\n",
        "  except:\n",
        "    print('failed for',df['RecipeId'][i])\n",
        "    pass"
      ]
    },
    {
      "cell_type": "code",
      "execution_count": null,
      "metadata": {
        "colab": {
          "base_uri": "https://localhost:8080/"
        },
        "id": "uJEBtl9vwqZO",
        "outputId": "8ff17dee-2a40-4256-99e0-68e2020dc6f8"
      },
      "outputs": [],
      "source": [
        "print(scores_dict)"
      ]
    },
    {
      "cell_type": "code",
      "execution_count": null,
      "metadata": {
        "id": "gucE27zQIvZK"
      },
      "outputs": [],
      "source": [
        "df.to_csv('merge.csv')"
      ]
    },
    {
      "cell_type": "markdown",
      "metadata": {
        "id": "GD0It_2bR6RK"
      },
      "source": [
        "dropping rows which had too long reviews"
      ]
    },
    {
      "cell_type": "code",
      "execution_count": null,
      "metadata": {
        "colab": {
          "base_uri": "https://localhost:8080/",
          "height": 296
        },
        "id": "opTLHTRIKM_i",
        "outputId": "a4ccd0c4-a804-44d6-d838-8af7931f5656"
      },
      "outputs": [],
      "source": [
        "df['ReviewText'][2322]"
      ]
    },
    {
      "cell_type": "code",
      "execution_count": null,
      "metadata": {
        "colab": {
          "base_uri": "https://localhost:8080/",
          "height": 35
        },
        "id": "Mw_JGK9ZJK7i",
        "outputId": "f835f94f-6b74-4dff-a697-c03f2445a156"
      },
      "outputs": [],
      "source": [
        "df['RecipeId'][2322]"
      ]
    },
    {
      "cell_type": "code",
      "execution_count": null,
      "metadata": {
        "colab": {
          "base_uri": "https://localhost:8080/",
          "height": 139
        },
        "id": "x25UDDyAKSty",
        "outputId": "1ae31a49-9cd4-43a5-c2ac-5767facb17cb"
      },
      "outputs": [],
      "source": [
        "df['ReviewText'][3414]"
      ]
    },
    {
      "cell_type": "code",
      "execution_count": null,
      "metadata": {
        "colab": {
          "base_uri": "https://localhost:8080/",
          "height": 35
        },
        "id": "McLfSYIQK_HT",
        "outputId": "55ff6b28-9543-47f6-9694-56d6abd73f63"
      },
      "outputs": [],
      "source": [
        "df['RecipeId'][3414]"
      ]
    },
    {
      "cell_type": "code",
      "execution_count": null,
      "metadata": {
        "colab": {
          "base_uri": "https://localhost:8080/",
          "height": 139
        },
        "id": "B-lNx1L4LCfP",
        "outputId": "79e38d20-3b31-41b7-c3cb-0322fd6663d2"
      },
      "outputs": [],
      "source": [
        "df['ReviewText'][7912]"
      ]
    },
    {
      "cell_type": "code",
      "execution_count": null,
      "metadata": {
        "colab": {
          "base_uri": "https://localhost:8080/",
          "height": 35
        },
        "id": "A_bndlidLoP7",
        "outputId": "3ddd7710-b052-41fc-8383-bf1722cec895"
      },
      "outputs": [],
      "source": [
        "df['RecipeId'][7912]"
      ]
    },
    {
      "cell_type": "code",
      "execution_count": null,
      "metadata": {
        "colab": {
          "base_uri": "https://localhost:8080/",
          "height": 139
        },
        "id": "uK30O-zMLwjj",
        "outputId": "aba4c5f7-ded2-4df0-bf9b-a77721ebf498"
      },
      "outputs": [],
      "source": [
        "df['ReviewText'][18792]"
      ]
    },
    {
      "cell_type": "code",
      "execution_count": null,
      "metadata": {
        "colab": {
          "base_uri": "https://localhost:8080/",
          "height": 35
        },
        "id": "Q0DXmIOrMrGj",
        "outputId": "d29b8365-6338-418e-eab7-808641c1fe02"
      },
      "outputs": [],
      "source": [
        "df['RecipeId'][18792]"
      ]
    },
    {
      "cell_type": "code",
      "execution_count": null,
      "metadata": {
        "colab": {
          "base_uri": "https://localhost:8080/",
          "height": 139
        },
        "id": "N8fQgv-PNYW8",
        "outputId": "29bcb5d7-52bd-4108-e1b3-94896865a277"
      },
      "outputs": [],
      "source": [
        "df['ReviewText'][18880]"
      ]
    },
    {
      "cell_type": "code",
      "execution_count": null,
      "metadata": {
        "colab": {
          "base_uri": "https://localhost:8080/",
          "height": 35
        },
        "id": "zog6gIY1NUQn",
        "outputId": "1aa97eda-d965-4197-e66e-238fc188fe09"
      },
      "outputs": [],
      "source": [
        "df['RecipeId'][18880]"
      ]
    },
    {
      "cell_type": "code",
      "execution_count": null,
      "metadata": {
        "id": "iRpk7WcBNbz5"
      },
      "outputs": [],
      "source": [
        "df.drop(df.index[[2322,3414,7912,18792,18880]],inplace=True)"
      ]
    },
    {
      "cell_type": "code",
      "execution_count": null,
      "metadata": {
        "colab": {
          "base_uri": "https://localhost:8080/"
        },
        "id": "ICwbBVlMOdzA",
        "outputId": "c93007d0-eb63-47d4-9550-a94184314d57"
      },
      "outputs": [],
      "source": [
        "df.shape"
      ]
    },
    {
      "cell_type": "code",
      "execution_count": null,
      "metadata": {
        "id": "033h3OCsOjQh"
      },
      "outputs": [],
      "source": [
        "df1=df"
      ]
    },
    {
      "cell_type": "markdown",
      "metadata": {
        "id": "iyKoNFf0SEGn"
      },
      "source": [
        "##NOTE: POSITIVE AND NEGATIVE ARE SWAPPED HERE "
      ]
    },
    {
      "cell_type": "code",
      "execution_count": null,
      "metadata": {
        "colab": {
          "base_uri": "https://localhost:8080/"
        },
        "id": "oHUp3ra3R2D0",
        "outputId": "53ef2f38-de8c-4a08-faf8-cc0f0dc60307"
      },
      "outputs": [],
      "source": [
        "print(len(scores_dict['positive']))"
      ]
    },
    {
      "cell_type": "code",
      "execution_count": null,
      "metadata": {
        "id": "2W7fuhOsSX7c"
      },
      "outputs": [],
      "source": [
        "df1['positive']=scores_dict['negative'][2322:25236]"
      ]
    },
    {
      "cell_type": "code",
      "execution_count": null,
      "metadata": {
        "id": "KBDf1Ii1PkE3"
      },
      "outputs": [],
      "source": [
        "df1['negative']=scores_dict['positive'][2322:25236]"
      ]
    },
    {
      "cell_type": "code",
      "execution_count": null,
      "metadata": {
        "id": "TSabIDD_SeR_"
      },
      "outputs": [],
      "source": [
        "df1['neutral']=scores_dict['neutral'][2322:25236]"
      ]
    },
    {
      "cell_type": "code",
      "execution_count": null,
      "metadata": {
        "colab": {
          "base_uri": "https://localhost:8080/",
          "height": 1000
        },
        "id": "_BQzVCETQGAp",
        "outputId": "7fde4c23-12db-4c30-df83-1b83828cac8c"
      },
      "outputs": [],
      "source": [
        "df1.head(10)"
      ]
    },
    {
      "cell_type": "code",
      "execution_count": null,
      "metadata": {
        "id": "VBrTw5ldThXk"
      },
      "outputs": [],
      "source": [
        "l1=[]\n",
        "for i in range(2322,25236):\n",
        "  if(scores_dict['neutral'][i]>scores_dict['positive'][i] and scores_dict['neutral'][i]>scores_dict['negative'][i]):\n",
        "    if(scores_dict['positive'][i]>scores_dict['negative'][i]):\n",
        "      l1.append(2)\n",
        "    if(scores_dict['negative'][i]>scores_dict['positive'][i]):\n",
        "      l1.append(3)\n",
        "    continue\n",
        "  elif(scores_dict['positive'][i]>scores_dict['negative'][i]):\n",
        "    if(scores_dict['positive'][i]>0.5):\n",
        "      l1.append(1)\n",
        "    elif(scores_dict['positive'][i]<0.5):\n",
        "      l1.append(2)\n",
        "    continue\n",
        "  elif(scores_dict['negative'][i]>scores_dict['positive'][i]):\n",
        "    if(scores_dict['negative'][i]>0.5):\n",
        "      l1.append(5)\n",
        "    elif(scores_dict['negative'][i]<0.5):\n",
        "      l1.append(4)\n"
      ]
    },
    {
      "cell_type": "code",
      "execution_count": null,
      "metadata": {
        "colab": {
          "base_uri": "https://localhost:8080/"
        },
        "id": "x-TnWZkndBBg",
        "outputId": "b7d4400c-ba88-42d0-9f47-edfeddf36b47"
      },
      "outputs": [],
      "source": [
        "l1"
      ]
    },
    {
      "cell_type": "code",
      "execution_count": null,
      "metadata": {
        "colab": {
          "base_uri": "https://localhost:8080/"
        },
        "id": "WtedCwl8dHcV",
        "outputId": "0b174759-4c64-4497-e74b-60525251eb66"
      },
      "outputs": [],
      "source": [
        "len(l1)"
      ]
    },
    {
      "cell_type": "code",
      "execution_count": null,
      "metadata": {
        "id": "1zqPEvjXdMy1"
      },
      "outputs": [],
      "source": [
        "df1['Predicted_rating']=l1"
      ]
    },
    {
      "cell_type": "code",
      "execution_count": null,
      "metadata": {
        "colab": {
          "base_uri": "https://localhost:8080/",
          "height": 1000
        },
        "id": "cVZp5bYudqPk",
        "outputId": "5bc4fd20-8311-4f2a-e5f4-20e9ce593642"
      },
      "outputs": [],
      "source": [
        "df1.head(10)"
      ]
    },
    {
      "cell_type": "code",
      "execution_count": null,
      "metadata": {
        "colab": {
          "base_uri": "https://localhost:8080/",
          "height": 424
        },
        "id": "Ao8KEa1jeeWy",
        "outputId": "dcfea7ba-3475-4975-cff8-096b490f463e"
      },
      "outputs": [],
      "source": [
        "df2=df1[['RecipeId','Predicted_rating']].copy()\n",
        "df2"
      ]
    },
    {
      "cell_type": "code",
      "execution_count": null,
      "metadata": {
        "id": "ssIXA1eafftE"
      },
      "outputs": [],
      "source": [
        "df2.to_csv('random_state42_submission.csv',index=False)"
      ]
    },
    {
      "cell_type": "code",
      "execution_count": null,
      "metadata": {
        "id": "gdgoCQ4Qe_iz"
      },
      "outputs": [],
      "source": [
        "l2=df1['RecipeId'].unique()"
      ]
    },
    {
      "cell_type": "code",
      "execution_count": null,
      "metadata": {
        "id": "vlm9eTCThGP0"
      },
      "outputs": [],
      "source": [
        "df3=df2.groupby(['RecipeId']).mean().round().reset_index()"
      ]
    },
    {
      "cell_type": "code",
      "execution_count": null,
      "metadata": {
        "colab": {
          "base_uri": "https://localhost:8080/",
          "height": 424
        },
        "id": "F0_nLXYuhk-q",
        "outputId": "852a29bf-9dd5-4da2-e11f-5d1ae78597e7"
      },
      "outputs": [],
      "source": [
        "df3"
      ]
    },
    {
      "cell_type": "code",
      "execution_count": null,
      "metadata": {
        "id": "fFv8BHoPithq"
      },
      "outputs": [],
      "source": [
        "df3.to_csv('random_state42_submission_codeicon.csv',index=False)"
      ]
    },
    {
      "cell_type": "code",
      "execution_count": null,
      "metadata": {
        "colab": {
          "base_uri": "https://localhost:8080/",
          "height": 424
        },
        "id": "U5gvmcVyq__h",
        "outputId": "b2220607-b68e-414a-f863-58432cfa0778"
      },
      "outputs": [],
      "source": [
        "df3"
      ]
    },
    {
      "cell_type": "code",
      "execution_count": null,
      "metadata": {
        "colab": {
          "base_uri": "https://localhost:8080/",
          "height": 1000
        },
        "id": "AWzUll2mwOE6",
        "outputId": "b2ddaf69-a1aa-4b02-9faa-4033af60a578"
      },
      "outputs": [],
      "source": [
        "df4=pd.merge(dataset,df3,on='RecipeId',how='inner')\n",
        "df4"
      ]
    },
    {
      "cell_type": "code",
      "execution_count": null,
      "metadata": {
        "colab": {
          "base_uri": "https://localhost:8080/"
        },
        "id": "gF8sXQjjzBeW",
        "outputId": "dfd5e8b1-7712-4bc3-e3e9-e686a93fa71b"
      },
      "outputs": [],
      "source": [
        "df4.isnull().sum()"
      ]
    },
    {
      "cell_type": "code",
      "execution_count": null,
      "metadata": {
        "id": "kpeGgYZD0Cew"
      },
      "outputs": [],
      "source": [
        "df5=df4"
      ]
    },
    {
      "cell_type": "code",
      "execution_count": null,
      "metadata": {
        "id": "_O05eXaT0tvj"
      },
      "outputs": [],
      "source": [
        "df5.drop(['Cuisine'], axis=1,inplace=True)"
      ]
    },
    {
      "cell_type": "code",
      "execution_count": null,
      "metadata": {
        "colab": {
          "base_uri": "https://localhost:8080/",
          "height": 1000
        },
        "id": "J1FZ2mNw1N_n",
        "outputId": "e554f7c8-61ca-4352-986d-60a3ff9497d3"
      },
      "outputs": [],
      "source": [
        "df5.head(10)"
      ]
    },
    {
      "cell_type": "code",
      "execution_count": null,
      "metadata": {
        "id": "Bs24MlxS197O"
      },
      "outputs": [],
      "source": [
        "df5 = df5[df5['Calories'].notna()]"
      ]
    },
    {
      "cell_type": "code",
      "execution_count": null,
      "metadata": {
        "colab": {
          "base_uri": "https://localhost:8080/"
        },
        "id": "lppM_7St2DBt",
        "outputId": "8a33536e-f291-4be0-897f-90dc1e6ea536"
      },
      "outputs": [],
      "source": [
        "df5.isnull().sum()"
      ]
    },
    {
      "cell_type": "code",
      "execution_count": null,
      "metadata": {
        "colab": {
          "base_uri": "https://localhost:8080/"
        },
        "id": "Q-uewUmX1VtT",
        "outputId": "d5ab1523-4ace-4b5d-8ba8-0a4b47827585"
      },
      "outputs": [],
      "source": [
        "df5['Meal_Type'].unique()"
      ]
    },
    {
      "cell_type": "code",
      "execution_count": null,
      "metadata": {
        "id": "_KEz5S-24Gje"
      },
      "outputs": [],
      "source": [
        "df5['Dish'] = df5['Dish_Type'].fillna(df5['Dish_Type'].mode().iloc[0])"
      ]
    },
    {
      "cell_type": "code",
      "execution_count": null,
      "metadata": {
        "colab": {
          "base_uri": "https://localhost:8080/",
          "height": 1000
        },
        "id": "l8eOZcx04fpo",
        "outputId": "3221ec30-598d-40c1-9e65-f1e57cddcf0f"
      },
      "outputs": [],
      "source": [
        "df5"
      ]
    },
    {
      "cell_type": "code",
      "execution_count": null,
      "metadata": {
        "id": "_Yf_20CB4rwi"
      },
      "outputs": [],
      "source": [
        "df5.drop(['Dish_Type'], axis=1,inplace=True)"
      ]
    },
    {
      "cell_type": "code",
      "execution_count": null,
      "metadata": {
        "colab": {
          "base_uri": "https://localhost:8080/"
        },
        "id": "YddHdrSl4w3j",
        "outputId": "5e7cbd79-1990-42e1-9368-26f937ef1b68"
      },
      "outputs": [],
      "source": [
        "df5.isnull().sum()"
      ]
    },
    {
      "cell_type": "code",
      "execution_count": null,
      "metadata": {
        "id": "bMko5QNn5MPK"
      },
      "outputs": [],
      "source": [
        "df5['Flavor_Type'] = df5['Flavor'].fillna(df5['Flavor'].mode().iloc[0])"
      ]
    },
    {
      "cell_type": "code",
      "execution_count": null,
      "metadata": {
        "colab": {
          "base_uri": "https://localhost:8080/",
          "height": 595
        },
        "id": "4KSv3yuA5j_4",
        "outputId": "231c5e12-0608-4a53-ac82-30d2056bd2b0"
      },
      "outputs": [],
      "source": [
        "df5.head()"
      ]
    },
    {
      "cell_type": "code",
      "execution_count": null,
      "metadata": {
        "id": "koM2s-oe5waB"
      },
      "outputs": [],
      "source": [
        "df5.drop(['Flavor'], axis=1,inplace=True)"
      ]
    },
    {
      "cell_type": "code",
      "execution_count": null,
      "metadata": {
        "colab": {
          "base_uri": "https://localhost:8080/"
        },
        "id": "4x9W8VK55qvT",
        "outputId": "9b062020-8378-45ea-f4aa-2bba5c9c7e22"
      },
      "outputs": [],
      "source": [
        "df5.isnull().sum()"
      ]
    },
    {
      "cell_type": "code",
      "execution_count": null,
      "metadata": {
        "colab": {
          "base_uri": "https://localhost:8080/",
          "height": 1000
        },
        "id": "JDwmdgzX8mYz",
        "outputId": "69855f0a-05c2-4c00-bec6-6edca880e18f"
      },
      "outputs": [],
      "source": [
        "df6=pd.merge(df1,df3,on='RecipeId',how='inner')\n",
        "df6"
      ]
    },
    {
      "cell_type": "code",
      "execution_count": null,
      "metadata": {
        "id": "-NSYzp5p6jsC"
      },
      "outputs": [],
      "source": [
        "df_time=df6[['SubmittedTime','Predicted_rating_x']].copy()"
      ]
    },
    {
      "cell_type": "code",
      "execution_count": null,
      "metadata": {
        "id": "CKMrC9iY65TY"
      },
      "outputs": [],
      "source": [
        "df_time.rename(columns={'SubmittedTime':'ds','Predicted_rating_x':'y'},inplace=True)"
      ]
    },
    {
      "cell_type": "code",
      "execution_count": null,
      "metadata": {
        "colab": {
          "base_uri": "https://localhost:8080/",
          "height": 206
        },
        "id": "nmOKpnQ361DM",
        "outputId": "7186c660-bcf0-432e-b5c6-ef9ff4bf6727"
      },
      "outputs": [],
      "source": [
        "df_time.head()"
      ]
    },
    {
      "cell_type": "code",
      "execution_count": null,
      "metadata": {
        "colab": {
          "base_uri": "https://localhost:8080/",
          "height": 1000
        },
        "id": "jFs89O1A6g2k",
        "outputId": "114b69da-3400-4b6d-a2b1-1ea06de8c76c"
      },
      "outputs": [],
      "source": [
        "import matplotlib.pyplot as plt\n",
        "from prophet.plot import add_changepoints_to_plot\n",
        "from prophet import Prophet\n",
        "m1 = Prophet()\n",
        "m1.fit(df_time)\n",
        "days = int(input('Enter the number of years'))\n",
        "future = m1.make_future_dataframe(periods = days*365)\n",
        "forecast = m1.predict(future)\n",
        "\n",
        "fig1 = m1.plot(forecast)\n",
        "fig2 = m1.plot_components(forecast)\n",
        "\n",
        "plt.show()"
      ]
    },
    {
      "cell_type": "code",
      "execution_count": null,
      "metadata": {
        "colab": {
          "base_uri": "https://localhost:8080/",
          "height": 1000
        },
        "id": "oNEbhT1C89yp",
        "outputId": "a904d452-7858-4798-bac3-09d2008adf4d"
      },
      "outputs": [],
      "source": [
        "df5"
      ]
    },
    {
      "cell_type": "code",
      "execution_count": null,
      "metadata": {
        "colab": {
          "base_uri": "https://localhost:8080/"
        },
        "id": "jih25lF19I6v",
        "outputId": "72352940-515a-433b-ac83-fecaddcaa04c"
      },
      "outputs": [],
      "source": [
        "s='2 hr 15 min'\n",
        "s1='10 min'\n",
        "import re\n",
        "\n",
        "result = re.sub('\\D', ' ',s)\n",
        "\n",
        "result=result.split(' ')\n",
        "\n",
        "print(result)"
      ]
    },
    {
      "cell_type": "markdown",
      "metadata": {
        "id": "3ZJcxtHoAb0t"
      },
      "source": [
        "More the number of calories, worse the reviews seem to be"
      ]
    },
    {
      "cell_type": "code",
      "execution_count": null,
      "metadata": {
        "colab": {
          "base_uri": "https://localhost:8080/",
          "height": 287
        },
        "id": "1WISDFOwAx7j",
        "outputId": "39e2c881-2bfc-4b0d-b15c-0dc0c222e244"
      },
      "outputs": [],
      "source": [
        "sns.heatmap(df5.corr(), cmap=\"YlGnBu\", annot=True)"
      ]
    },
    {
      "cell_type": "code",
      "execution_count": null,
      "metadata": {
        "colab": {
          "base_uri": "https://localhost:8080/",
          "height": 297
        },
        "id": "gBOqvL2s_TaE",
        "outputId": "976cdda4-dbd2-40a3-bf74-32af47ce3d1c"
      },
      "outputs": [],
      "source": [
        "import seaborn as sns\n",
        "sns.barplot(y=df5['Calories'],x=df5['Predicted_rating'],palette='mako')"
      ]
    },
    {
      "cell_type": "code",
      "execution_count": null,
      "metadata": {
        "colab": {
          "base_uri": "https://localhost:8080/",
          "height": 297
        },
        "id": "ujezxPsuBKeh",
        "outputId": "de478ebb-fb0d-46e6-8133-aca3519911cd"
      },
      "outputs": [],
      "source": [
        "sns.barplot(y=df5['NumberOfIngredients'],x=df5['Predicted_rating'],palette='mako')"
      ]
    },
    {
      "cell_type": "code",
      "execution_count": null,
      "metadata": {
        "colab": {
          "base_uri": "https://localhost:8080/",
          "height": 674
        },
        "id": "bZKCyA9gBT7Q",
        "outputId": "e2948904-324b-4ca1-ee7a-5a5af463de64"
      },
      "outputs": [],
      "source": [
        "plt.figure(figsize=(30,15))\n",
        "sns.barplot(x=df5['NumberOfIngredients'],y=df5['Calories'],hue=df5['Predicted_rating'],palette='mako',ci=None)"
      ]
    },
    {
      "cell_type": "code",
      "execution_count": null,
      "metadata": {
        "colab": {
          "base_uri": "https://localhost:8080/",
          "height": 674
        },
        "id": "XLz487mkDbVB",
        "outputId": "e3c45dfe-5815-4a8e-cf6c-cdad8751a443"
      },
      "outputs": [],
      "source": [
        "plt.figure(figsize=(30,15))\n",
        "sns.barplot(x=df5['Flavor_Type'],hue=df5['Predicted_rating'],y=df5['Calories'],palette='mako',ci=None)"
      ]
    },
    {
      "cell_type": "code",
      "execution_count": null,
      "metadata": {
        "colab": {
          "base_uri": "https://localhost:8080/",
          "height": 794
        },
        "id": "ASLOjzVFK83x",
        "outputId": "36c45673-7a8e-4f2e-84a0-f10a051bb3ea"
      },
      "outputs": [],
      "source": [
        "plt.figure(figsize=(30,15))\n",
        "sns.barplot(x=df5['Meal_Type'],hue=df5['Predicted_rating'],y=df5['Calories'],palette='mako',ci=None)\n",
        "plt.xticks(rotation=45)"
      ]
    },
    {
      "cell_type": "code",
      "execution_count": null,
      "metadata": {
        "id": "9vvB0EiWFPhi"
      },
      "outputs": [],
      "source": [
        "df6=df5.copy()"
      ]
    },
    {
      "cell_type": "markdown",
      "metadata": {
        "id": "p6aUt7awSeXT"
      },
      "source": [
        "label encoding categorical data"
      ]
    },
    {
      "cell_type": "code",
      "execution_count": null,
      "metadata": {
        "id": "MkWjE4QlB4iz"
      },
      "outputs": [],
      "source": [
        "from sklearn.preprocessing import LabelEncoder\n",
        "le=LabelEncoder()\n",
        "df6['Flavor_Type']=le.fit_transform(df6['Flavor_Type'])"
      ]
    },
    {
      "cell_type": "code",
      "execution_count": null,
      "metadata": {
        "id": "SF7AljcMFhfT"
      },
      "outputs": [],
      "source": [
        "le=LabelEncoder()\n",
        "df6['Dish']=le.fit_transform(df6['Dish'])"
      ]
    },
    {
      "cell_type": "code",
      "execution_count": null,
      "metadata": {
        "id": "oER5XFpxGhtn"
      },
      "outputs": [],
      "source": [
        "le=LabelEncoder()\n",
        "df6['Meal_Type']=le.fit_transform(df6['Meal_Type'])"
      ]
    },
    {
      "cell_type": "code",
      "execution_count": null,
      "metadata": {
        "colab": {
          "base_uri": "https://localhost:8080/",
          "height": 1000
        },
        "id": "AbX8SFlUCrcT",
        "outputId": "0f9f6329-66ef-4c37-ff65-e5ffcfce265b"
      },
      "outputs": [],
      "source": [
        "df6"
      ]
    },
    {
      "cell_type": "markdown",
      "metadata": {
        "id": "ZWm2WlXaSsHy"
      },
      "source": [
        "Basic Machine Learning Model based on all attributes but the ingredients"
      ]
    },
    {
      "cell_type": "code",
      "execution_count": null,
      "metadata": {
        "id": "7GqLK7NPFvRx"
      },
      "outputs": [],
      "source": [
        "X=df6.loc[:, ['Flavor_Type','Dish','Calories','Meal_Type','NumberOfIngredients']]\n",
        "y=df6['Predicted_rating']"
      ]
    },
    {
      "cell_type": "code",
      "execution_count": null,
      "metadata": {
        "colab": {
          "base_uri": "https://localhost:8080/"
        },
        "id": "5yr-o8W4GY6O",
        "outputId": "23b1740e-fb6c-45ec-fa0f-d336d8ff1716"
      },
      "outputs": [],
      "source": [
        "print(X)"
      ]
    },
    {
      "cell_type": "code",
      "execution_count": null,
      "metadata": {
        "colab": {
          "base_uri": "https://localhost:8080/"
        },
        "id": "UFk4CspXGbal",
        "outputId": "b58351df-68ce-41ee-af77-e601bee412c5"
      },
      "outputs": [],
      "source": [
        "print(y)"
      ]
    },
    {
      "cell_type": "code",
      "execution_count": null,
      "metadata": {
        "id": "AVzJWAXIhxoC"
      },
      "outputs": [],
      "source": [
        "from sklearn.model_selection import train_test_split\n",
        "X_train, X_test, y_train, y_test = train_test_split(X, y, test_size = 0.25, random_state = 0)"
      ]
    },
    {
      "cell_type": "code",
      "execution_count": null,
      "metadata": {
        "id": "CFlEUfPaG7hU"
      },
      "outputs": [],
      "source": [
        "from sklearn.preprocessing import StandardScaler\n",
        "sc = StandardScaler()\n",
        "X_train = sc.fit_transform(X_train)\n",
        "X_test = sc.transform(X_test)"
      ]
    },
    {
      "cell_type": "code",
      "execution_count": null,
      "metadata": {
        "colab": {
          "base_uri": "https://localhost:8080/"
        },
        "id": "a0g3JUs6How8",
        "outputId": "f7cdf072-9e31-48a8-c347-2291fcba6e0e"
      },
      "outputs": [],
      "source": [
        "!pip install lazypredict"
      ]
    },
    {
      "cell_type": "code",
      "execution_count": null,
      "metadata": {
        "colab": {
          "base_uri": "https://localhost:8080/"
        },
        "id": "a15ywUSnHX65",
        "outputId": "7663d245-b650-4635-c5e0-6d286c6af7ac"
      },
      "outputs": [],
      "source": [
        "from lazypredict.Supervised import LazyClassifier\n",
        "clf = LazyClassifier(verbose=0,ignore_warnings=True, custom_metric=None)\n",
        "models,predictions = clf.fit(X_train, X_test, y_train, y_test)\n",
        "print(models)"
      ]
    },
    {
      "cell_type": "code",
      "execution_count": null,
      "metadata": {
        "colab": {
          "base_uri": "https://localhost:8080/"
        },
        "id": "E4Kz6RDNH_er",
        "outputId": "46b2ecf0-8970-44b2-abfe-83fca680b882"
      },
      "outputs": [],
      "source": [
        "from sklearn.svm import SVC\n",
        "classifier = SVC(kernel = 'rbf', random_state = 0)\n",
        "classifier.fit(X_train, y_train)"
      ]
    },
    {
      "cell_type": "code",
      "execution_count": null,
      "metadata": {
        "colab": {
          "base_uri": "https://localhost:8080/"
        },
        "id": "VmtveTePIj5P",
        "outputId": "3ad8b4f4-dd8e-45dd-a7eb-94413c5446e1"
      },
      "outputs": [],
      "source": [
        "classifier.fit(X_train, y_train)"
      ]
    },
    {
      "cell_type": "code",
      "execution_count": null,
      "metadata": {
        "id": "TP59EYc0HCqA"
      },
      "outputs": [],
      "source": [
        "y_pred = classifier.predict(X_test)"
      ]
    },
    {
      "cell_type": "code",
      "execution_count": null,
      "metadata": {
        "colab": {
          "base_uri": "https://localhost:8080/"
        },
        "id": "nBVXLdyLHFkw",
        "outputId": "dd96f61e-da8b-484a-9710-f4fa5e654cd5"
      },
      "outputs": [],
      "source": [
        "from sklearn.metrics import accuracy_score\n",
        "accuracy_score(y_test,y_pred)"
      ]
    },
    {
      "cell_type": "code",
      "execution_count": null,
      "metadata": {
        "colab": {
          "base_uri": "https://localhost:8080/",
          "height": 424
        },
        "id": "vCFwO0rTJJEi",
        "outputId": "d4623862-a62d-4eab-bb39-b461a66870a2"
      },
      "outputs": [],
      "source": [
        "df2"
      ]
    },
    {
      "cell_type": "code",
      "execution_count": null,
      "metadata": {
        "colab": {
          "base_uri": "https://localhost:8080/"
        },
        "id": "g3stvHuYK25y",
        "outputId": "b13a2906-5e38-4e44-8bfe-024057f46b06"
      },
      "outputs": [],
      "source": [
        "r_unique=df2['RecipeId'].unique()\n",
        "r_unique"
      ]
    },
    {
      "cell_type": "markdown",
      "metadata": {
        "id": "IdFJfFUKTbyk"
      },
      "source": [
        "Finding the difference between the maximum and minimum rating for a review"
      ]
    },
    {
      "cell_type": "code",
      "execution_count": null,
      "metadata": {
        "id": "PLQlHeWvNr_3"
      },
      "outputs": [],
      "source": [
        "diff=[]\n",
        "for i in r_unique:\n",
        "  l2=[]\n",
        "  for j in range(len(df2)):\n",
        "    try:\n",
        "      if(df2['RecipeId'][j]==i):\n",
        "        l2.append(df2['Predicted_rating'][j])\n",
        "    except:\n",
        "      pass\n",
        "  difference=max(l2)-min(l2)\n",
        "  diff.append(difference)"
      ]
    },
    {
      "cell_type": "code",
      "execution_count": null,
      "metadata": {
        "colab": {
          "base_uri": "https://localhost:8080/"
        },
        "id": "GJmLjtMXPomi",
        "outputId": "58adb645-a95e-4335-8d0f-e5a16547d4fa"
      },
      "outputs": [],
      "source": [
        "print(diff)"
      ]
    },
    {
      "cell_type": "code",
      "execution_count": null,
      "metadata": {
        "id": "xSc1uXiKTth-"
      },
      "outputs": [],
      "source": [
        "for i in range(9):\n",
        "  diff.append(4)"
      ]
    },
    {
      "cell_type": "code",
      "execution_count": null,
      "metadata": {
        "id": "EkidjnxYUQZ_"
      },
      "outputs": [],
      "source": [
        "df6['diff']=diff"
      ]
    },
    {
      "cell_type": "code",
      "execution_count": null,
      "metadata": {
        "colab": {
          "base_uri": "https://localhost:8080/",
          "height": 1000
        },
        "id": "8Zi_9hQcT1O7",
        "outputId": "31373244-0649-4381-d5f1-454a34dec7b4"
      },
      "outputs": [],
      "source": [
        "plt.figure(figsize=(30,15))\n",
        "sns.barplot(hue=df6['Calories'],x=df6['Predicted_rating'],y=df6['diff'],palette='mako',ci=None)"
      ]
    }
  ],
  "metadata": {
    "colab": {
      "provenance": []
    },
    "kernelspec": {
      "display_name": "Python 3.9.7 64-bit",
      "language": "python",
      "name": "python3"
    },
    "language_info": {
      "name": "python",
      "version": "3.9.7"
    },
    "vscode": {
      "interpreter": {
        "hash": "b55b8b55252181a41c0ebb45c666d643ca02bb8ace0a98aafad2637bbdc4d341"
      }
    },
    "widgets": {
      "application/vnd.jupyter.widget-state+json": {
        "0075971185d2485eb28dad25cccdcb0a": {
          "model_module": "@jupyter-widgets/base",
          "model_module_version": "1.2.0",
          "model_name": "LayoutModel",
          "state": {
            "_model_module": "@jupyter-widgets/base",
            "_model_module_version": "1.2.0",
            "_model_name": "LayoutModel",
            "_view_count": null,
            "_view_module": "@jupyter-widgets/base",
            "_view_module_version": "1.2.0",
            "_view_name": "LayoutView",
            "align_content": null,
            "align_items": null,
            "align_self": null,
            "border": null,
            "bottom": null,
            "display": null,
            "flex": null,
            "flex_flow": null,
            "grid_area": null,
            "grid_auto_columns": null,
            "grid_auto_flow": null,
            "grid_auto_rows": null,
            "grid_column": null,
            "grid_gap": null,
            "grid_row": null,
            "grid_template_areas": null,
            "grid_template_columns": null,
            "grid_template_rows": null,
            "height": null,
            "justify_content": null,
            "justify_items": null,
            "left": null,
            "margin": null,
            "max_height": null,
            "max_width": null,
            "min_height": null,
            "min_width": null,
            "object_fit": null,
            "object_position": null,
            "order": null,
            "overflow": null,
            "overflow_x": null,
            "overflow_y": null,
            "padding": null,
            "right": null,
            "top": null,
            "visibility": null,
            "width": null
          }
        },
        "058cfab332b94b46b31bdb263738b02b": {
          "model_module": "@jupyter-widgets/base",
          "model_module_version": "1.2.0",
          "model_name": "LayoutModel",
          "state": {
            "_model_module": "@jupyter-widgets/base",
            "_model_module_version": "1.2.0",
            "_model_name": "LayoutModel",
            "_view_count": null,
            "_view_module": "@jupyter-widgets/base",
            "_view_module_version": "1.2.0",
            "_view_name": "LayoutView",
            "align_content": null,
            "align_items": null,
            "align_self": null,
            "border": null,
            "bottom": null,
            "display": null,
            "flex": null,
            "flex_flow": null,
            "grid_area": null,
            "grid_auto_columns": null,
            "grid_auto_flow": null,
            "grid_auto_rows": null,
            "grid_column": null,
            "grid_gap": null,
            "grid_row": null,
            "grid_template_areas": null,
            "grid_template_columns": null,
            "grid_template_rows": null,
            "height": null,
            "justify_content": null,
            "justify_items": null,
            "left": null,
            "margin": null,
            "max_height": null,
            "max_width": null,
            "min_height": null,
            "min_width": null,
            "object_fit": null,
            "object_position": null,
            "order": null,
            "overflow": null,
            "overflow_x": null,
            "overflow_y": null,
            "padding": null,
            "right": null,
            "top": null,
            "visibility": null,
            "width": null
          }
        },
        "08f8eacc13454b3dbe29a88b74b9e925": {
          "model_module": "@jupyter-widgets/controls",
          "model_module_version": "1.5.0",
          "model_name": "HTMLModel",
          "state": {
            "_dom_classes": [],
            "_model_module": "@jupyter-widgets/controls",
            "_model_module_version": "1.5.0",
            "_model_name": "HTMLModel",
            "_view_count": null,
            "_view_module": "@jupyter-widgets/controls",
            "_view_module_version": "1.5.0",
            "_view_name": "HTMLView",
            "description": "",
            "description_tooltip": null,
            "layout": "IPY_MODEL_bb11f5eeab0949f2bd34809ab4e14ff3",
            "placeholder": "​",
            "style": "IPY_MODEL_687d3a86e7644f808bc039ffbe173a90",
            "value": "Downloading: 100%"
          }
        },
        "124849dccddf48a5b9cf26e6892282ec": {
          "model_module": "@jupyter-widgets/controls",
          "model_module_version": "1.5.0",
          "model_name": "DescriptionStyleModel",
          "state": {
            "_model_module": "@jupyter-widgets/controls",
            "_model_module_version": "1.5.0",
            "_model_name": "DescriptionStyleModel",
            "_view_count": null,
            "_view_module": "@jupyter-widgets/base",
            "_view_module_version": "1.2.0",
            "_view_name": "StyleView",
            "description_width": ""
          }
        },
        "16c465410e5c4de68b1be877c31bf736": {
          "model_module": "@jupyter-widgets/controls",
          "model_module_version": "1.5.0",
          "model_name": "HBoxModel",
          "state": {
            "_dom_classes": [],
            "_model_module": "@jupyter-widgets/controls",
            "_model_module_version": "1.5.0",
            "_model_name": "HBoxModel",
            "_view_count": null,
            "_view_module": "@jupyter-widgets/controls",
            "_view_module_version": "1.5.0",
            "_view_name": "HBoxView",
            "box_style": "",
            "children": [
              "IPY_MODEL_08f8eacc13454b3dbe29a88b74b9e925",
              "IPY_MODEL_1e7c85fba11b4cb3aecc1385f426f6a4",
              "IPY_MODEL_2d03d6a40055461cbdc47d32b7844171"
            ],
            "layout": "IPY_MODEL_1b456f71423545a2a8d4b6458c7393c9"
          }
        },
        "1756bba530034b1e8353f294c12bb6fc": {
          "model_module": "@jupyter-widgets/controls",
          "model_module_version": "1.5.0",
          "model_name": "HTMLModel",
          "state": {
            "_dom_classes": [],
            "_model_module": "@jupyter-widgets/controls",
            "_model_module_version": "1.5.0",
            "_model_name": "HTMLModel",
            "_view_count": null,
            "_view_module": "@jupyter-widgets/controls",
            "_view_module_version": "1.5.0",
            "_view_name": "HTMLView",
            "description": "",
            "description_tooltip": null,
            "layout": "IPY_MODEL_058cfab332b94b46b31bdb263738b02b",
            "placeholder": "​",
            "style": "IPY_MODEL_90a3d2f963c049db83c5e47e014a88d1",
            "value": "Downloading: 100%"
          }
        },
        "1b456f71423545a2a8d4b6458c7393c9": {
          "model_module": "@jupyter-widgets/base",
          "model_module_version": "1.2.0",
          "model_name": "LayoutModel",
          "state": {
            "_model_module": "@jupyter-widgets/base",
            "_model_module_version": "1.2.0",
            "_model_name": "LayoutModel",
            "_view_count": null,
            "_view_module": "@jupyter-widgets/base",
            "_view_module_version": "1.2.0",
            "_view_name": "LayoutView",
            "align_content": null,
            "align_items": null,
            "align_self": null,
            "border": null,
            "bottom": null,
            "display": null,
            "flex": null,
            "flex_flow": null,
            "grid_area": null,
            "grid_auto_columns": null,
            "grid_auto_flow": null,
            "grid_auto_rows": null,
            "grid_column": null,
            "grid_gap": null,
            "grid_row": null,
            "grid_template_areas": null,
            "grid_template_columns": null,
            "grid_template_rows": null,
            "height": null,
            "justify_content": null,
            "justify_items": null,
            "left": null,
            "margin": null,
            "max_height": null,
            "max_width": null,
            "min_height": null,
            "min_width": null,
            "object_fit": null,
            "object_position": null,
            "order": null,
            "overflow": null,
            "overflow_x": null,
            "overflow_y": null,
            "padding": null,
            "right": null,
            "top": null,
            "visibility": null,
            "width": null
          }
        },
        "1e7c85fba11b4cb3aecc1385f426f6a4": {
          "model_module": "@jupyter-widgets/controls",
          "model_module_version": "1.5.0",
          "model_name": "FloatProgressModel",
          "state": {
            "_dom_classes": [],
            "_model_module": "@jupyter-widgets/controls",
            "_model_module_version": "1.5.0",
            "_model_name": "FloatProgressModel",
            "_view_count": null,
            "_view_module": "@jupyter-widgets/controls",
            "_view_module_version": "1.5.0",
            "_view_name": "ProgressView",
            "bar_style": "success",
            "description": "",
            "description_tooltip": null,
            "layout": "IPY_MODEL_42e9bbfb7ab44a66b623e964daeb4885",
            "max": 456318,
            "min": 0,
            "orientation": "horizontal",
            "style": "IPY_MODEL_ed507db44d6245dba8aa83d93b7569bf",
            "value": 456318
          }
        },
        "1f41298f18e54aa78f85f30760644a18": {
          "model_module": "@jupyter-widgets/controls",
          "model_module_version": "1.5.0",
          "model_name": "HTMLModel",
          "state": {
            "_dom_classes": [],
            "_model_module": "@jupyter-widgets/controls",
            "_model_module_version": "1.5.0",
            "_model_name": "HTMLModel",
            "_view_count": null,
            "_view_module": "@jupyter-widgets/controls",
            "_view_module_version": "1.5.0",
            "_view_name": "HTMLView",
            "description": "",
            "description_tooltip": null,
            "layout": "IPY_MODEL_5ac22af5118b4320a45cbc1cedb8e7e5",
            "placeholder": "​",
            "style": "IPY_MODEL_827c80b5caf54f69821de1e413bd9a55",
            "value": "Downloading: 100%"
          }
        },
        "2d03d6a40055461cbdc47d32b7844171": {
          "model_module": "@jupyter-widgets/controls",
          "model_module_version": "1.5.0",
          "model_name": "HTMLModel",
          "state": {
            "_dom_classes": [],
            "_model_module": "@jupyter-widgets/controls",
            "_model_module_version": "1.5.0",
            "_model_name": "HTMLModel",
            "_view_count": null,
            "_view_module": "@jupyter-widgets/controls",
            "_view_module_version": "1.5.0",
            "_view_name": "HTMLView",
            "description": "",
            "description_tooltip": null,
            "layout": "IPY_MODEL_d2731e41e2994e4e90b631394912db74",
            "placeholder": "​",
            "style": "IPY_MODEL_bbc9b645742d483399b78f97f39fba64",
            "value": " 456k/456k [00:00&lt;00:00, 410kB/s]"
          }
        },
        "347e72c2948d4a478abff29fd5b678b3": {
          "model_module": "@jupyter-widgets/controls",
          "model_module_version": "1.5.0",
          "model_name": "FloatProgressModel",
          "state": {
            "_dom_classes": [],
            "_model_module": "@jupyter-widgets/controls",
            "_model_module_version": "1.5.0",
            "_model_name": "FloatProgressModel",
            "_view_count": null,
            "_view_module": "@jupyter-widgets/controls",
            "_view_module_version": "1.5.0",
            "_view_name": "ProgressView",
            "bar_style": "success",
            "description": "",
            "description_tooltip": null,
            "layout": "IPY_MODEL_0075971185d2485eb28dad25cccdcb0a",
            "max": 150,
            "min": 0,
            "orientation": "horizontal",
            "style": "IPY_MODEL_e97227ce527a4953999d335ef412bc36",
            "value": 150
          }
        },
        "3ac65320d8944f078ad84684bcab746e": {
          "model_module": "@jupyter-widgets/controls",
          "model_module_version": "1.5.0",
          "model_name": "ProgressStyleModel",
          "state": {
            "_model_module": "@jupyter-widgets/controls",
            "_model_module_version": "1.5.0",
            "_model_name": "ProgressStyleModel",
            "_view_count": null,
            "_view_module": "@jupyter-widgets/base",
            "_view_module_version": "1.2.0",
            "_view_name": "StyleView",
            "bar_color": null,
            "description_width": ""
          }
        },
        "42e9bbfb7ab44a66b623e964daeb4885": {
          "model_module": "@jupyter-widgets/base",
          "model_module_version": "1.2.0",
          "model_name": "LayoutModel",
          "state": {
            "_model_module": "@jupyter-widgets/base",
            "_model_module_version": "1.2.0",
            "_model_name": "LayoutModel",
            "_view_count": null,
            "_view_module": "@jupyter-widgets/base",
            "_view_module_version": "1.2.0",
            "_view_name": "LayoutView",
            "align_content": null,
            "align_items": null,
            "align_self": null,
            "border": null,
            "bottom": null,
            "display": null,
            "flex": null,
            "flex_flow": null,
            "grid_area": null,
            "grid_auto_columns": null,
            "grid_auto_flow": null,
            "grid_auto_rows": null,
            "grid_column": null,
            "grid_gap": null,
            "grid_row": null,
            "grid_template_areas": null,
            "grid_template_columns": null,
            "grid_template_rows": null,
            "height": null,
            "justify_content": null,
            "justify_items": null,
            "left": null,
            "margin": null,
            "max_height": null,
            "max_width": null,
            "min_height": null,
            "min_width": null,
            "object_fit": null,
            "object_position": null,
            "order": null,
            "overflow": null,
            "overflow_x": null,
            "overflow_y": null,
            "padding": null,
            "right": null,
            "top": null,
            "visibility": null,
            "width": null
          }
        },
        "49d0baac1774429a855f9d5da3e76ed1": {
          "model_module": "@jupyter-widgets/base",
          "model_module_version": "1.2.0",
          "model_name": "LayoutModel",
          "state": {
            "_model_module": "@jupyter-widgets/base",
            "_model_module_version": "1.2.0",
            "_model_name": "LayoutModel",
            "_view_count": null,
            "_view_module": "@jupyter-widgets/base",
            "_view_module_version": "1.2.0",
            "_view_name": "LayoutView",
            "align_content": null,
            "align_items": null,
            "align_self": null,
            "border": null,
            "bottom": null,
            "display": null,
            "flex": null,
            "flex_flow": null,
            "grid_area": null,
            "grid_auto_columns": null,
            "grid_auto_flow": null,
            "grid_auto_rows": null,
            "grid_column": null,
            "grid_gap": null,
            "grid_row": null,
            "grid_template_areas": null,
            "grid_template_columns": null,
            "grid_template_rows": null,
            "height": null,
            "justify_content": null,
            "justify_items": null,
            "left": null,
            "margin": null,
            "max_height": null,
            "max_width": null,
            "min_height": null,
            "min_width": null,
            "object_fit": null,
            "object_position": null,
            "order": null,
            "overflow": null,
            "overflow_x": null,
            "overflow_y": null,
            "padding": null,
            "right": null,
            "top": null,
            "visibility": null,
            "width": null
          }
        },
        "4ecf26f2d535480c9cd2c78049361506": {
          "model_module": "@jupyter-widgets/controls",
          "model_module_version": "1.5.0",
          "model_name": "DescriptionStyleModel",
          "state": {
            "_model_module": "@jupyter-widgets/controls",
            "_model_module_version": "1.5.0",
            "_model_name": "DescriptionStyleModel",
            "_view_count": null,
            "_view_module": "@jupyter-widgets/base",
            "_view_module_version": "1.2.0",
            "_view_name": "StyleView",
            "description_width": ""
          }
        },
        "551160da1b2d41298fb5abc518f92fe1": {
          "model_module": "@jupyter-widgets/base",
          "model_module_version": "1.2.0",
          "model_name": "LayoutModel",
          "state": {
            "_model_module": "@jupyter-widgets/base",
            "_model_module_version": "1.2.0",
            "_model_name": "LayoutModel",
            "_view_count": null,
            "_view_module": "@jupyter-widgets/base",
            "_view_module_version": "1.2.0",
            "_view_name": "LayoutView",
            "align_content": null,
            "align_items": null,
            "align_self": null,
            "border": null,
            "bottom": null,
            "display": null,
            "flex": null,
            "flex_flow": null,
            "grid_area": null,
            "grid_auto_columns": null,
            "grid_auto_flow": null,
            "grid_auto_rows": null,
            "grid_column": null,
            "grid_gap": null,
            "grid_row": null,
            "grid_template_areas": null,
            "grid_template_columns": null,
            "grid_template_rows": null,
            "height": null,
            "justify_content": null,
            "justify_items": null,
            "left": null,
            "margin": null,
            "max_height": null,
            "max_width": null,
            "min_height": null,
            "min_width": null,
            "object_fit": null,
            "object_position": null,
            "order": null,
            "overflow": null,
            "overflow_x": null,
            "overflow_y": null,
            "padding": null,
            "right": null,
            "top": null,
            "visibility": null,
            "width": null
          }
        },
        "5ac22af5118b4320a45cbc1cedb8e7e5": {
          "model_module": "@jupyter-widgets/base",
          "model_module_version": "1.2.0",
          "model_name": "LayoutModel",
          "state": {
            "_model_module": "@jupyter-widgets/base",
            "_model_module_version": "1.2.0",
            "_model_name": "LayoutModel",
            "_view_count": null,
            "_view_module": "@jupyter-widgets/base",
            "_view_module_version": "1.2.0",
            "_view_name": "LayoutView",
            "align_content": null,
            "align_items": null,
            "align_self": null,
            "border": null,
            "bottom": null,
            "display": null,
            "flex": null,
            "flex_flow": null,
            "grid_area": null,
            "grid_auto_columns": null,
            "grid_auto_flow": null,
            "grid_auto_rows": null,
            "grid_column": null,
            "grid_gap": null,
            "grid_row": null,
            "grid_template_areas": null,
            "grid_template_columns": null,
            "grid_template_rows": null,
            "height": null,
            "justify_content": null,
            "justify_items": null,
            "left": null,
            "margin": null,
            "max_height": null,
            "max_width": null,
            "min_height": null,
            "min_width": null,
            "object_fit": null,
            "object_position": null,
            "order": null,
            "overflow": null,
            "overflow_x": null,
            "overflow_y": null,
            "padding": null,
            "right": null,
            "top": null,
            "visibility": null,
            "width": null
          }
        },
        "5bb640d427f14072a42d856f0368683b": {
          "model_module": "@jupyter-widgets/base",
          "model_module_version": "1.2.0",
          "model_name": "LayoutModel",
          "state": {
            "_model_module": "@jupyter-widgets/base",
            "_model_module_version": "1.2.0",
            "_model_name": "LayoutModel",
            "_view_count": null,
            "_view_module": "@jupyter-widgets/base",
            "_view_module_version": "1.2.0",
            "_view_name": "LayoutView",
            "align_content": null,
            "align_items": null,
            "align_self": null,
            "border": null,
            "bottom": null,
            "display": null,
            "flex": null,
            "flex_flow": null,
            "grid_area": null,
            "grid_auto_columns": null,
            "grid_auto_flow": null,
            "grid_auto_rows": null,
            "grid_column": null,
            "grid_gap": null,
            "grid_row": null,
            "grid_template_areas": null,
            "grid_template_columns": null,
            "grid_template_rows": null,
            "height": null,
            "justify_content": null,
            "justify_items": null,
            "left": null,
            "margin": null,
            "max_height": null,
            "max_width": null,
            "min_height": null,
            "min_width": null,
            "object_fit": null,
            "object_position": null,
            "order": null,
            "overflow": null,
            "overflow_x": null,
            "overflow_y": null,
            "padding": null,
            "right": null,
            "top": null,
            "visibility": null,
            "width": null
          }
        },
        "5e24b254ae1e40bd87b84faa647dbcb9": {
          "model_module": "@jupyter-widgets/controls",
          "model_module_version": "1.5.0",
          "model_name": "HTMLModel",
          "state": {
            "_dom_classes": [],
            "_model_module": "@jupyter-widgets/controls",
            "_model_module_version": "1.5.0",
            "_model_name": "HTMLModel",
            "_view_count": null,
            "_view_module": "@jupyter-widgets/controls",
            "_view_module_version": "1.5.0",
            "_view_name": "HTMLView",
            "description": "",
            "description_tooltip": null,
            "layout": "IPY_MODEL_fe1dc973a44e4b138e64dbe0c47a57b5",
            "placeholder": "​",
            "style": "IPY_MODEL_4ecf26f2d535480c9cd2c78049361506",
            "value": " 747/747 [00:00&lt;00:00, 13.0kB/s]"
          }
        },
        "687d3a86e7644f808bc039ffbe173a90": {
          "model_module": "@jupyter-widgets/controls",
          "model_module_version": "1.5.0",
          "model_name": "DescriptionStyleModel",
          "state": {
            "_model_module": "@jupyter-widgets/controls",
            "_model_module_version": "1.5.0",
            "_model_name": "DescriptionStyleModel",
            "_view_count": null,
            "_view_module": "@jupyter-widgets/base",
            "_view_module_version": "1.2.0",
            "_view_name": "StyleView",
            "description_width": ""
          }
        },
        "7674620c5e414bd59d3d9f0a77219fc9": {
          "model_module": "@jupyter-widgets/controls",
          "model_module_version": "1.5.0",
          "model_name": "HBoxModel",
          "state": {
            "_dom_classes": [],
            "_model_module": "@jupyter-widgets/controls",
            "_model_module_version": "1.5.0",
            "_model_name": "HBoxModel",
            "_view_count": null,
            "_view_module": "@jupyter-widgets/controls",
            "_view_module_version": "1.5.0",
            "_view_name": "HBoxView",
            "box_style": "",
            "children": [
              "IPY_MODEL_1f41298f18e54aa78f85f30760644a18",
              "IPY_MODEL_347e72c2948d4a478abff29fd5b678b3",
              "IPY_MODEL_8d8df70abe3240abb56eb10721fe8cbc"
            ],
            "layout": "IPY_MODEL_5bb640d427f14072a42d856f0368683b"
          }
        },
        "76cf8738e2144c6c8a54c75dab9dd83e": {
          "model_module": "@jupyter-widgets/controls",
          "model_module_version": "1.5.0",
          "model_name": "FloatProgressModel",
          "state": {
            "_dom_classes": [],
            "_model_module": "@jupyter-widgets/controls",
            "_model_module_version": "1.5.0",
            "_model_name": "FloatProgressModel",
            "_view_count": null,
            "_view_module": "@jupyter-widgets/controls",
            "_view_module_version": "1.5.0",
            "_view_name": "ProgressView",
            "bar_style": "success",
            "description": "",
            "description_tooltip": null,
            "layout": "IPY_MODEL_af33c5ffe5054d448985ed13652a60bb",
            "max": 898822,
            "min": 0,
            "orientation": "horizontal",
            "style": "IPY_MODEL_f8ee835074e54384b1a17d3c23a6e056",
            "value": 898822
          }
        },
        "7b496ac8d44a494a826bd4bb356a57c1": {
          "model_module": "@jupyter-widgets/controls",
          "model_module_version": "1.5.0",
          "model_name": "DescriptionStyleModel",
          "state": {
            "_model_module": "@jupyter-widgets/controls",
            "_model_module_version": "1.5.0",
            "_model_name": "DescriptionStyleModel",
            "_view_count": null,
            "_view_module": "@jupyter-widgets/base",
            "_view_module_version": "1.2.0",
            "_view_name": "StyleView",
            "description_width": ""
          }
        },
        "827c80b5caf54f69821de1e413bd9a55": {
          "model_module": "@jupyter-widgets/controls",
          "model_module_version": "1.5.0",
          "model_name": "DescriptionStyleModel",
          "state": {
            "_model_module": "@jupyter-widgets/controls",
            "_model_module_version": "1.5.0",
            "_model_name": "DescriptionStyleModel",
            "_view_count": null,
            "_view_module": "@jupyter-widgets/base",
            "_view_module_version": "1.2.0",
            "_view_name": "StyleView",
            "description_width": ""
          }
        },
        "8d8df70abe3240abb56eb10721fe8cbc": {
          "model_module": "@jupyter-widgets/controls",
          "model_module_version": "1.5.0",
          "model_name": "HTMLModel",
          "state": {
            "_dom_classes": [],
            "_model_module": "@jupyter-widgets/controls",
            "_model_module_version": "1.5.0",
            "_model_name": "HTMLModel",
            "_view_count": null,
            "_view_module": "@jupyter-widgets/controls",
            "_view_module_version": "1.5.0",
            "_view_name": "HTMLView",
            "description": "",
            "description_tooltip": null,
            "layout": "IPY_MODEL_99e4458d2a5141218121c7eb95d27189",
            "placeholder": "​",
            "style": "IPY_MODEL_7b496ac8d44a494a826bd4bb356a57c1",
            "value": " 150/150 [00:00&lt;00:00, 3.97kB/s]"
          }
        },
        "8e40787d44bb49c19dd94c904a6a1bd6": {
          "model_module": "@jupyter-widgets/controls",
          "model_module_version": "1.5.0",
          "model_name": "HBoxModel",
          "state": {
            "_dom_classes": [],
            "_model_module": "@jupyter-widgets/controls",
            "_model_module_version": "1.5.0",
            "_model_name": "HBoxModel",
            "_view_count": null,
            "_view_module": "@jupyter-widgets/controls",
            "_view_module_version": "1.5.0",
            "_view_name": "HBoxView",
            "box_style": "",
            "children": [
              "IPY_MODEL_ef9a3b0038cf493e93a87144450bd02d",
              "IPY_MODEL_76cf8738e2144c6c8a54c75dab9dd83e",
              "IPY_MODEL_e7e96c0205b44733a071ffb878d939a1"
            ],
            "layout": "IPY_MODEL_9c38a9291b074405a2139183be3d0bbb"
          }
        },
        "90a3d2f963c049db83c5e47e014a88d1": {
          "model_module": "@jupyter-widgets/controls",
          "model_module_version": "1.5.0",
          "model_name": "DescriptionStyleModel",
          "state": {
            "_model_module": "@jupyter-widgets/controls",
            "_model_module_version": "1.5.0",
            "_model_name": "DescriptionStyleModel",
            "_view_count": null,
            "_view_module": "@jupyter-widgets/base",
            "_view_module_version": "1.2.0",
            "_view_name": "StyleView",
            "description_width": ""
          }
        },
        "99e4458d2a5141218121c7eb95d27189": {
          "model_module": "@jupyter-widgets/base",
          "model_module_version": "1.2.0",
          "model_name": "LayoutModel",
          "state": {
            "_model_module": "@jupyter-widgets/base",
            "_model_module_version": "1.2.0",
            "_model_name": "LayoutModel",
            "_view_count": null,
            "_view_module": "@jupyter-widgets/base",
            "_view_module_version": "1.2.0",
            "_view_name": "LayoutView",
            "align_content": null,
            "align_items": null,
            "align_self": null,
            "border": null,
            "bottom": null,
            "display": null,
            "flex": null,
            "flex_flow": null,
            "grid_area": null,
            "grid_auto_columns": null,
            "grid_auto_flow": null,
            "grid_auto_rows": null,
            "grid_column": null,
            "grid_gap": null,
            "grid_row": null,
            "grid_template_areas": null,
            "grid_template_columns": null,
            "grid_template_rows": null,
            "height": null,
            "justify_content": null,
            "justify_items": null,
            "left": null,
            "margin": null,
            "max_height": null,
            "max_width": null,
            "min_height": null,
            "min_width": null,
            "object_fit": null,
            "object_position": null,
            "order": null,
            "overflow": null,
            "overflow_x": null,
            "overflow_y": null,
            "padding": null,
            "right": null,
            "top": null,
            "visibility": null,
            "width": null
          }
        },
        "9c38a9291b074405a2139183be3d0bbb": {
          "model_module": "@jupyter-widgets/base",
          "model_module_version": "1.2.0",
          "model_name": "LayoutModel",
          "state": {
            "_model_module": "@jupyter-widgets/base",
            "_model_module_version": "1.2.0",
            "_model_name": "LayoutModel",
            "_view_count": null,
            "_view_module": "@jupyter-widgets/base",
            "_view_module_version": "1.2.0",
            "_view_name": "LayoutView",
            "align_content": null,
            "align_items": null,
            "align_self": null,
            "border": null,
            "bottom": null,
            "display": null,
            "flex": null,
            "flex_flow": null,
            "grid_area": null,
            "grid_auto_columns": null,
            "grid_auto_flow": null,
            "grid_auto_rows": null,
            "grid_column": null,
            "grid_gap": null,
            "grid_row": null,
            "grid_template_areas": null,
            "grid_template_columns": null,
            "grid_template_rows": null,
            "height": null,
            "justify_content": null,
            "justify_items": null,
            "left": null,
            "margin": null,
            "max_height": null,
            "max_width": null,
            "min_height": null,
            "min_width": null,
            "object_fit": null,
            "object_position": null,
            "order": null,
            "overflow": null,
            "overflow_x": null,
            "overflow_y": null,
            "padding": null,
            "right": null,
            "top": null,
            "visibility": null,
            "width": null
          }
        },
        "af33c5ffe5054d448985ed13652a60bb": {
          "model_module": "@jupyter-widgets/base",
          "model_module_version": "1.2.0",
          "model_name": "LayoutModel",
          "state": {
            "_model_module": "@jupyter-widgets/base",
            "_model_module_version": "1.2.0",
            "_model_name": "LayoutModel",
            "_view_count": null,
            "_view_module": "@jupyter-widgets/base",
            "_view_module_version": "1.2.0",
            "_view_name": "LayoutView",
            "align_content": null,
            "align_items": null,
            "align_self": null,
            "border": null,
            "bottom": null,
            "display": null,
            "flex": null,
            "flex_flow": null,
            "grid_area": null,
            "grid_auto_columns": null,
            "grid_auto_flow": null,
            "grid_auto_rows": null,
            "grid_column": null,
            "grid_gap": null,
            "grid_row": null,
            "grid_template_areas": null,
            "grid_template_columns": null,
            "grid_template_rows": null,
            "height": null,
            "justify_content": null,
            "justify_items": null,
            "left": null,
            "margin": null,
            "max_height": null,
            "max_width": null,
            "min_height": null,
            "min_width": null,
            "object_fit": null,
            "object_position": null,
            "order": null,
            "overflow": null,
            "overflow_x": null,
            "overflow_y": null,
            "padding": null,
            "right": null,
            "top": null,
            "visibility": null,
            "width": null
          }
        },
        "b6602e64539c4e20a95ea670dd5c5844": {
          "model_module": "@jupyter-widgets/controls",
          "model_module_version": "1.5.0",
          "model_name": "HBoxModel",
          "state": {
            "_dom_classes": [],
            "_model_module": "@jupyter-widgets/controls",
            "_model_module_version": "1.5.0",
            "_model_name": "HBoxModel",
            "_view_count": null,
            "_view_module": "@jupyter-widgets/controls",
            "_view_module_version": "1.5.0",
            "_view_name": "HBoxView",
            "box_style": "",
            "children": [
              "IPY_MODEL_1756bba530034b1e8353f294c12bb6fc",
              "IPY_MODEL_e6ab6ce515344676a8d1b7846f16cc0e",
              "IPY_MODEL_5e24b254ae1e40bd87b84faa647dbcb9"
            ],
            "layout": "IPY_MODEL_551160da1b2d41298fb5abc518f92fe1"
          }
        },
        "bb11f5eeab0949f2bd34809ab4e14ff3": {
          "model_module": "@jupyter-widgets/base",
          "model_module_version": "1.2.0",
          "model_name": "LayoutModel",
          "state": {
            "_model_module": "@jupyter-widgets/base",
            "_model_module_version": "1.2.0",
            "_model_name": "LayoutModel",
            "_view_count": null,
            "_view_module": "@jupyter-widgets/base",
            "_view_module_version": "1.2.0",
            "_view_name": "LayoutView",
            "align_content": null,
            "align_items": null,
            "align_self": null,
            "border": null,
            "bottom": null,
            "display": null,
            "flex": null,
            "flex_flow": null,
            "grid_area": null,
            "grid_auto_columns": null,
            "grid_auto_flow": null,
            "grid_auto_rows": null,
            "grid_column": null,
            "grid_gap": null,
            "grid_row": null,
            "grid_template_areas": null,
            "grid_template_columns": null,
            "grid_template_rows": null,
            "height": null,
            "justify_content": null,
            "justify_items": null,
            "left": null,
            "margin": null,
            "max_height": null,
            "max_width": null,
            "min_height": null,
            "min_width": null,
            "object_fit": null,
            "object_position": null,
            "order": null,
            "overflow": null,
            "overflow_x": null,
            "overflow_y": null,
            "padding": null,
            "right": null,
            "top": null,
            "visibility": null,
            "width": null
          }
        },
        "bbc9b645742d483399b78f97f39fba64": {
          "model_module": "@jupyter-widgets/controls",
          "model_module_version": "1.5.0",
          "model_name": "DescriptionStyleModel",
          "state": {
            "_model_module": "@jupyter-widgets/controls",
            "_model_module_version": "1.5.0",
            "_model_name": "DescriptionStyleModel",
            "_view_count": null,
            "_view_module": "@jupyter-widgets/base",
            "_view_module_version": "1.2.0",
            "_view_name": "StyleView",
            "description_width": ""
          }
        },
        "c58dd9433e5a405581d38f446c32686e": {
          "model_module": "@jupyter-widgets/base",
          "model_module_version": "1.2.0",
          "model_name": "LayoutModel",
          "state": {
            "_model_module": "@jupyter-widgets/base",
            "_model_module_version": "1.2.0",
            "_model_name": "LayoutModel",
            "_view_count": null,
            "_view_module": "@jupyter-widgets/base",
            "_view_module_version": "1.2.0",
            "_view_name": "LayoutView",
            "align_content": null,
            "align_items": null,
            "align_self": null,
            "border": null,
            "bottom": null,
            "display": null,
            "flex": null,
            "flex_flow": null,
            "grid_area": null,
            "grid_auto_columns": null,
            "grid_auto_flow": null,
            "grid_auto_rows": null,
            "grid_column": null,
            "grid_gap": null,
            "grid_row": null,
            "grid_template_areas": null,
            "grid_template_columns": null,
            "grid_template_rows": null,
            "height": null,
            "justify_content": null,
            "justify_items": null,
            "left": null,
            "margin": null,
            "max_height": null,
            "max_width": null,
            "min_height": null,
            "min_width": null,
            "object_fit": null,
            "object_position": null,
            "order": null,
            "overflow": null,
            "overflow_x": null,
            "overflow_y": null,
            "padding": null,
            "right": null,
            "top": null,
            "visibility": null,
            "width": null
          }
        },
        "d2731e41e2994e4e90b631394912db74": {
          "model_module": "@jupyter-widgets/base",
          "model_module_version": "1.2.0",
          "model_name": "LayoutModel",
          "state": {
            "_model_module": "@jupyter-widgets/base",
            "_model_module_version": "1.2.0",
            "_model_name": "LayoutModel",
            "_view_count": null,
            "_view_module": "@jupyter-widgets/base",
            "_view_module_version": "1.2.0",
            "_view_name": "LayoutView",
            "align_content": null,
            "align_items": null,
            "align_self": null,
            "border": null,
            "bottom": null,
            "display": null,
            "flex": null,
            "flex_flow": null,
            "grid_area": null,
            "grid_auto_columns": null,
            "grid_auto_flow": null,
            "grid_auto_rows": null,
            "grid_column": null,
            "grid_gap": null,
            "grid_row": null,
            "grid_template_areas": null,
            "grid_template_columns": null,
            "grid_template_rows": null,
            "height": null,
            "justify_content": null,
            "justify_items": null,
            "left": null,
            "margin": null,
            "max_height": null,
            "max_width": null,
            "min_height": null,
            "min_width": null,
            "object_fit": null,
            "object_position": null,
            "order": null,
            "overflow": null,
            "overflow_x": null,
            "overflow_y": null,
            "padding": null,
            "right": null,
            "top": null,
            "visibility": null,
            "width": null
          }
        },
        "ddaef10342ba4cdca230d77a831d442e": {
          "model_module": "@jupyter-widgets/base",
          "model_module_version": "1.2.0",
          "model_name": "LayoutModel",
          "state": {
            "_model_module": "@jupyter-widgets/base",
            "_model_module_version": "1.2.0",
            "_model_name": "LayoutModel",
            "_view_count": null,
            "_view_module": "@jupyter-widgets/base",
            "_view_module_version": "1.2.0",
            "_view_name": "LayoutView",
            "align_content": null,
            "align_items": null,
            "align_self": null,
            "border": null,
            "bottom": null,
            "display": null,
            "flex": null,
            "flex_flow": null,
            "grid_area": null,
            "grid_auto_columns": null,
            "grid_auto_flow": null,
            "grid_auto_rows": null,
            "grid_column": null,
            "grid_gap": null,
            "grid_row": null,
            "grid_template_areas": null,
            "grid_template_columns": null,
            "grid_template_rows": null,
            "height": null,
            "justify_content": null,
            "justify_items": null,
            "left": null,
            "margin": null,
            "max_height": null,
            "max_width": null,
            "min_height": null,
            "min_width": null,
            "object_fit": null,
            "object_position": null,
            "order": null,
            "overflow": null,
            "overflow_x": null,
            "overflow_y": null,
            "padding": null,
            "right": null,
            "top": null,
            "visibility": null,
            "width": null
          }
        },
        "e6ab6ce515344676a8d1b7846f16cc0e": {
          "model_module": "@jupyter-widgets/controls",
          "model_module_version": "1.5.0",
          "model_name": "FloatProgressModel",
          "state": {
            "_dom_classes": [],
            "_model_module": "@jupyter-widgets/controls",
            "_model_module_version": "1.5.0",
            "_model_name": "FloatProgressModel",
            "_view_count": null,
            "_view_module": "@jupyter-widgets/controls",
            "_view_module_version": "1.5.0",
            "_view_name": "ProgressView",
            "bar_style": "success",
            "description": "",
            "description_tooltip": null,
            "layout": "IPY_MODEL_c58dd9433e5a405581d38f446c32686e",
            "max": 747,
            "min": 0,
            "orientation": "horizontal",
            "style": "IPY_MODEL_3ac65320d8944f078ad84684bcab746e",
            "value": 747
          }
        },
        "e7e96c0205b44733a071ffb878d939a1": {
          "model_module": "@jupyter-widgets/controls",
          "model_module_version": "1.5.0",
          "model_name": "HTMLModel",
          "state": {
            "_dom_classes": [],
            "_model_module": "@jupyter-widgets/controls",
            "_model_module_version": "1.5.0",
            "_model_name": "HTMLModel",
            "_view_count": null,
            "_view_module": "@jupyter-widgets/controls",
            "_view_module_version": "1.5.0",
            "_view_name": "HTMLView",
            "description": "",
            "description_tooltip": null,
            "layout": "IPY_MODEL_ddaef10342ba4cdca230d77a831d442e",
            "placeholder": "​",
            "style": "IPY_MODEL_e955f9065f6a4e2fafe7cb1f78a427f4",
            "value": " 899k/899k [00:01&lt;00:00, 1.20MB/s]"
          }
        },
        "e955f9065f6a4e2fafe7cb1f78a427f4": {
          "model_module": "@jupyter-widgets/controls",
          "model_module_version": "1.5.0",
          "model_name": "DescriptionStyleModel",
          "state": {
            "_model_module": "@jupyter-widgets/controls",
            "_model_module_version": "1.5.0",
            "_model_name": "DescriptionStyleModel",
            "_view_count": null,
            "_view_module": "@jupyter-widgets/base",
            "_view_module_version": "1.2.0",
            "_view_name": "StyleView",
            "description_width": ""
          }
        },
        "e97227ce527a4953999d335ef412bc36": {
          "model_module": "@jupyter-widgets/controls",
          "model_module_version": "1.5.0",
          "model_name": "ProgressStyleModel",
          "state": {
            "_model_module": "@jupyter-widgets/controls",
            "_model_module_version": "1.5.0",
            "_model_name": "ProgressStyleModel",
            "_view_count": null,
            "_view_module": "@jupyter-widgets/base",
            "_view_module_version": "1.2.0",
            "_view_name": "StyleView",
            "bar_color": null,
            "description_width": ""
          }
        },
        "ed507db44d6245dba8aa83d93b7569bf": {
          "model_module": "@jupyter-widgets/controls",
          "model_module_version": "1.5.0",
          "model_name": "ProgressStyleModel",
          "state": {
            "_model_module": "@jupyter-widgets/controls",
            "_model_module_version": "1.5.0",
            "_model_name": "ProgressStyleModel",
            "_view_count": null,
            "_view_module": "@jupyter-widgets/base",
            "_view_module_version": "1.2.0",
            "_view_name": "StyleView",
            "bar_color": null,
            "description_width": ""
          }
        },
        "ef9a3b0038cf493e93a87144450bd02d": {
          "model_module": "@jupyter-widgets/controls",
          "model_module_version": "1.5.0",
          "model_name": "HTMLModel",
          "state": {
            "_dom_classes": [],
            "_model_module": "@jupyter-widgets/controls",
            "_model_module_version": "1.5.0",
            "_model_name": "HTMLModel",
            "_view_count": null,
            "_view_module": "@jupyter-widgets/controls",
            "_view_module_version": "1.5.0",
            "_view_name": "HTMLView",
            "description": "",
            "description_tooltip": null,
            "layout": "IPY_MODEL_49d0baac1774429a855f9d5da3e76ed1",
            "placeholder": "​",
            "style": "IPY_MODEL_124849dccddf48a5b9cf26e6892282ec",
            "value": "Downloading: 100%"
          }
        },
        "f8ee835074e54384b1a17d3c23a6e056": {
          "model_module": "@jupyter-widgets/controls",
          "model_module_version": "1.5.0",
          "model_name": "ProgressStyleModel",
          "state": {
            "_model_module": "@jupyter-widgets/controls",
            "_model_module_version": "1.5.0",
            "_model_name": "ProgressStyleModel",
            "_view_count": null,
            "_view_module": "@jupyter-widgets/base",
            "_view_module_version": "1.2.0",
            "_view_name": "StyleView",
            "bar_color": null,
            "description_width": ""
          }
        },
        "fe1dc973a44e4b138e64dbe0c47a57b5": {
          "model_module": "@jupyter-widgets/base",
          "model_module_version": "1.2.0",
          "model_name": "LayoutModel",
          "state": {
            "_model_module": "@jupyter-widgets/base",
            "_model_module_version": "1.2.0",
            "_model_name": "LayoutModel",
            "_view_count": null,
            "_view_module": "@jupyter-widgets/base",
            "_view_module_version": "1.2.0",
            "_view_name": "LayoutView",
            "align_content": null,
            "align_items": null,
            "align_self": null,
            "border": null,
            "bottom": null,
            "display": null,
            "flex": null,
            "flex_flow": null,
            "grid_area": null,
            "grid_auto_columns": null,
            "grid_auto_flow": null,
            "grid_auto_rows": null,
            "grid_column": null,
            "grid_gap": null,
            "grid_row": null,
            "grid_template_areas": null,
            "grid_template_columns": null,
            "grid_template_rows": null,
            "height": null,
            "justify_content": null,
            "justify_items": null,
            "left": null,
            "margin": null,
            "max_height": null,
            "max_width": null,
            "min_height": null,
            "min_width": null,
            "object_fit": null,
            "object_position": null,
            "order": null,
            "overflow": null,
            "overflow_x": null,
            "overflow_y": null,
            "padding": null,
            "right": null,
            "top": null,
            "visibility": null,
            "width": null
          }
        }
      }
    }
  },
  "nbformat": 4,
  "nbformat_minor": 0
}
